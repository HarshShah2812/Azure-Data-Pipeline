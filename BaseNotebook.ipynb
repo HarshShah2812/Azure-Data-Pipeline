{
 "cells": [
  {
   "cell_type": "code",
   "execution_count": 0,
   "metadata": {
    "application/vnd.databricks.v1+cell": {
     "cellMetadata": {
      "byteLimit": 2048000,
      "rowLimit": 10000
     },
     "inputWidgets": {},
     "nuid": "7c93b844-3c09-4087-a579-23e365f26c99",
     "showTitle": false,
     "title": ""
    }
   },
   "outputs": [
    {
     "output_type": "execute_result",
     "data": {
      "text/plain": [
       "True"
      ]
     },
     "execution_count": 1,
     "metadata": {},
     "output_type": "execute_result"
    }
   ],
   "source": [
    "# dbutils.fs.mount(\n",
    "#     source = 'wasbs://bronze@medallionstoreacc.blob.core.windows.net',\n",
    "#     mount_point = '/mnt/bronze',\n",
    "#     extra_configs = {'fs.azure.account.key.medallionstoreacc.blob.core.windows.net': dbutils.secrets.get('databricksScope', 'storageAccountKey')}\n",
    "# )"
   ]
  },
  {
   "cell_type": "code",
   "execution_count": 0,
   "metadata": {
    "application/vnd.databricks.v1+cell": {
     "cellMetadata": {
      "byteLimit": 2048000,
      "rowLimit": 10000
     },
     "inputWidgets": {},
     "nuid": "0a6f79af-8578-45a0-988a-48344e2c4e67",
     "showTitle": false,
     "title": ""
    }
   },
   "outputs": [
    {
     "output_type": "execute_result",
     "data": {
      "text/plain": [
       "True"
      ]
     },
     "execution_count": 5,
     "metadata": {},
     "output_type": "execute_result"
    }
   ],
   "source": [
    "# dbutils.fs.mount(\n",
    "#     source = 'wasbs://silver@medallionstoreacc.blob.core.windows.net',\n",
    "#     mount_point = '/mnt/silver',\n",
    "#     extra_configs = {'fs.azure.account.key.medallionstoreacc.blob.core.windows.net': dbutils.secrets.get('databricksScope', 'storageAccountKey')}\n",
    "# )"
   ]
  },
  {
   "cell_type": "code",
   "execution_count": 0,
   "metadata": {
    "application/vnd.databricks.v1+cell": {
     "cellMetadata": {
      "byteLimit": 2048000,
      "rowLimit": 10000
     },
     "inputWidgets": {},
     "nuid": "0194536f-2e32-48ff-b449-6440b7ac925d",
     "showTitle": false,
     "title": ""
    }
   },
   "outputs": [
    {
     "output_type": "execute_result",
     "data": {
      "text/plain": [
       "True"
      ]
     },
     "execution_count": 6,
     "metadata": {},
     "output_type": "execute_result"
    }
   ],
   "source": [
    "# dbutils.fs.mount(\n",
    "#     source = 'wasbs://gold@medallionstoreacc.blob.core.windows.net',\n",
    "#     mount_point = '/mnt/gold',\n",
    "#     extra_configs = {'fs.azure.account.key.medallionstoreacc.blob.core.windows.net': dbutils.secrets.get('databricksScope', 'storageAccountKey')}\n",
    "# )"
   ]
  },
  {
   "cell_type": "code",
   "execution_count": 0,
   "metadata": {
    "application/vnd.databricks.v1+cell": {
     "cellMetadata": {
      "byteLimit": 2048000,
      "rowLimit": 10000
     },
     "inputWidgets": {},
     "nuid": "70c9c257-04c9-4d3d-8466-c42ed134c326",
     "showTitle": false,
     "title": ""
    }
   },
   "outputs": [
    {
     "output_type": "execute_result",
     "data": {
      "text/plain": [
       "DataFrame[]"
      ]
     },
     "execution_count": 10,
     "metadata": {},
     "output_type": "execute_result"
    }
   ],
   "source": [
    "tableSchema = dbutils.widgets.get('table_schema')\n",
    "tableName = dbutils.widgets.get('table_name')\n",
    "fileName = dbutils.widgets.get('fileName')\n",
    "\n",
    "#create database if it doesn't exist\n",
    "spark.sql(f'CREATE DATABASE IF NOT EXISTS {tableSchema}')\n",
    "\n",
    "#create table if it doesn't exist\n",
    "spark.sql(\"\"\"CREATE TABLE IF NOT EXISTS \"\"\"+tableSchema+\"\"\".\"\"\"+tableName+\"\"\"\n",
    "            USING PARQUET \n",
    "            LOCATION '/mnt/bronze/\"\"\"+fileName+\"\"\"/\"\"\"+tableSchema+\"\"\".\"\"\"+tableName+\"\"\".parquet'\n",
    "          \"\"\")"
   ]
  }
 ],
 "metadata": {
  "application/vnd.databricks.v1+notebook": {
   "dashboards": [],
   "language": "python",
   "notebookMetadata": {
    "pythonIndentUnit": 4
   },
   "notebookName": "BaseNotebook",
   "widgets": {}
  }
 },
 "nbformat": 4,
 "nbformat_minor": 0
}
